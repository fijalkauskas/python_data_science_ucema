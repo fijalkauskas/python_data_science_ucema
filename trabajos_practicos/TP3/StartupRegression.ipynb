{
 "cells": [
  {
   "cell_type": "code",
   "execution_count": 1,
   "metadata": {},
   "outputs": [],
   "source": [
    "import pandas as pd\n",
    "import seaborn as sns\n",
    "import matplotlib.pyplot as plt\n",
    "import numpy as np"
   ]
  },
  {
   "cell_type": "markdown",
   "metadata": {},
   "source": [
    "# Contexto - **Startups**\n",
    "El dataset de startups contiene variables como gastos en\n",
    "investigación y desarrollo (I+D), costos administrativos, gastos en\n",
    "marketing, ubicación geográfica y beneficios netos.\n",
    "Este tipo de datos es esencial para entender el rendimiento\n",
    "financiero y operativo de una startup, lo cual es crítico para la\n",
    "toma de decisiones tanto para los inversionistas como para la\n",
    "administración de la empresa."
   ]
  },
  {
   "cell_type": "markdown",
   "metadata": {},
   "source": [
    "## Consignas:\n",
    "    a. Análisis Exploratorio de Datos (EDA) ¿Qué conclusiones\n",
    "    puede sacar con respecto a las distribuciones de las\n",
    "    variables numéricas y las relaciones entre ellas?\n",
    "    b. Modelo de Regresión Lineal para Predecir Beneficio Neto.\n",
    "    c. Cual es la intuicion detrás de la formula de la regresion\n",
    "    resultante.\n",
    "    d. Cual es el error promedio? y el error elevado al cuadrado?\n",
    "    ¿Que significa?\n",
    "    e. Analice del Sector de la Industria en el Beneficio Neto.\n",
    "    f. Cual es la relacion entre las series y el profit? Es importante\n",
    "    hay alguna particularidad? (Hint)"
   ]
  },
  {
   "cell_type": "code",
   "execution_count": 2,
   "metadata": {},
   "outputs": [],
   "source": [
    "startups = pd.read_csv('Datasets/emprendimientos.csv')\n",
    "copia_startups = startups.copy()"
   ]
  },
  {
   "cell_type": "markdown",
   "metadata": {},
   "source": [
    "## **Análisis exploratorio de los datos**"
   ]
  },
  {
   "cell_type": "code",
   "execution_count": 3,
   "metadata": {},
   "outputs": [
    {
     "data": {
      "text/plain": [
       "Index(['Unnamed: 0', 'RnD_Expenditure', 'Admin_Costs', 'Marketing_Expenditure',\n",
       "       'Location', 'Net_Profit', 'Industry_Sector', 'Profit', 'Employee_Count',\n",
       "       'Investment_Round', 'Operational_Cost'],\n",
       "      dtype='object')"
      ]
     },
     "execution_count": 3,
     "metadata": {},
     "output_type": "execute_result"
    }
   ],
   "source": [
    "startups.columns"
   ]
  },
  {
   "cell_type": "code",
   "execution_count": 4,
   "metadata": {},
   "outputs": [
    {
     "name": "stdout",
     "output_type": "stream",
     "text": [
      "El dataframe contiene información sobre industria, ubicación, cantidad de empleados, rondas de inversión, profits, costos y gastos de 70 startups.\n"
     ]
    }
   ],
   "source": [
    "print(f'El dataframe contiene información sobre industria, ubicación, cantidad de empleados, rondas de inversión, profits, costos y gastos de {startups.shape[0]} startups.')"
   ]
  },
  {
   "cell_type": "code",
   "execution_count": 5,
   "metadata": {},
   "outputs": [
    {
     "data": {
      "text/html": [
       "<div>\n",
       "<style scoped>\n",
       "    .dataframe tbody tr th:only-of-type {\n",
       "        vertical-align: middle;\n",
       "    }\n",
       "\n",
       "    .dataframe tbody tr th {\n",
       "        vertical-align: top;\n",
       "    }\n",
       "\n",
       "    .dataframe thead th {\n",
       "        text-align: right;\n",
       "    }\n",
       "</style>\n",
       "<table border=\"1\" class=\"dataframe\">\n",
       "  <thead>\n",
       "    <tr style=\"text-align: right;\">\n",
       "      <th></th>\n",
       "      <th>Unnamed: 0</th>\n",
       "      <th>RnD_Expenditure</th>\n",
       "      <th>Admin_Costs</th>\n",
       "      <th>Marketing_Expenditure</th>\n",
       "      <th>Location</th>\n",
       "      <th>Net_Profit</th>\n",
       "      <th>Industry_Sector</th>\n",
       "      <th>Profit</th>\n",
       "      <th>Employee_Count</th>\n",
       "      <th>Investment_Round</th>\n",
       "      <th>Operational_Cost</th>\n",
       "    </tr>\n",
       "  </thead>\n",
       "  <tbody>\n",
       "    <tr>\n",
       "      <th>0</th>\n",
       "      <td>0</td>\n",
       "      <td>165349.20</td>\n",
       "      <td>136897.80</td>\n",
       "      <td>471784.10</td>\n",
       "      <td>New York</td>\n",
       "      <td>192261.83</td>\n",
       "      <td>Energy</td>\n",
       "      <td>227095.722346</td>\n",
       "      <td>289</td>\n",
       "      <td>Series A</td>\n",
       "      <td>608681.90</td>\n",
       "    </tr>\n",
       "    <tr>\n",
       "      <th>1</th>\n",
       "      <td>1</td>\n",
       "      <td>162597.70</td>\n",
       "      <td>151377.59</td>\n",
       "      <td>443898.53</td>\n",
       "      <td>California</td>\n",
       "      <td>191792.06</td>\n",
       "      <td>Tech</td>\n",
       "      <td>224711.757208</td>\n",
       "      <td>217</td>\n",
       "      <td>Series B</td>\n",
       "      <td>595276.12</td>\n",
       "    </tr>\n",
       "    <tr>\n",
       "      <th>2</th>\n",
       "      <td>2</td>\n",
       "      <td>153441.51</td>\n",
       "      <td>101145.55</td>\n",
       "      <td>407934.54</td>\n",
       "      <td>Florida</td>\n",
       "      <td>191050.39</td>\n",
       "      <td>Finance</td>\n",
       "      <td>222717.429984</td>\n",
       "      <td>407</td>\n",
       "      <td>Series C</td>\n",
       "      <td>509080.09</td>\n",
       "    </tr>\n",
       "    <tr>\n",
       "      <th>3</th>\n",
       "      <td>3</td>\n",
       "      <td>144372.41</td>\n",
       "      <td>118671.85</td>\n",
       "      <td>383199.62</td>\n",
       "      <td>New York</td>\n",
       "      <td>182901.99</td>\n",
       "      <td>Finance</td>\n",
       "      <td>214017.365199</td>\n",
       "      <td>383</td>\n",
       "      <td>Series A</td>\n",
       "      <td>501871.47</td>\n",
       "    </tr>\n",
       "    <tr>\n",
       "      <th>4</th>\n",
       "      <td>4</td>\n",
       "      <td>142107.34</td>\n",
       "      <td>91391.77</td>\n",
       "      <td>366168.42</td>\n",
       "      <td>Florida</td>\n",
       "      <td>166187.94</td>\n",
       "      <td>Finance</td>\n",
       "      <td>196476.965990</td>\n",
       "      <td>351</td>\n",
       "      <td>Series B</td>\n",
       "      <td>457560.19</td>\n",
       "    </tr>\n",
       "  </tbody>\n",
       "</table>\n",
       "</div>"
      ],
      "text/plain": [
       "   Unnamed: 0  RnD_Expenditure  Admin_Costs  Marketing_Expenditure  \\\n",
       "0           0        165349.20    136897.80              471784.10   \n",
       "1           1        162597.70    151377.59              443898.53   \n",
       "2           2        153441.51    101145.55              407934.54   \n",
       "3           3        144372.41    118671.85              383199.62   \n",
       "4           4        142107.34     91391.77              366168.42   \n",
       "\n",
       "     Location  Net_Profit Industry_Sector         Profit  Employee_Count  \\\n",
       "0    New York   192261.83          Energy  227095.722346             289   \n",
       "1  California   191792.06            Tech  224711.757208             217   \n",
       "2     Florida   191050.39         Finance  222717.429984             407   \n",
       "3    New York   182901.99         Finance  214017.365199             383   \n",
       "4     Florida   166187.94         Finance  196476.965990             351   \n",
       "\n",
       "  Investment_Round  Operational_Cost  \n",
       "0         Series A         608681.90  \n",
       "1         Series B         595276.12  \n",
       "2         Series C         509080.09  \n",
       "3         Series A         501871.47  \n",
       "4         Series B         457560.19  "
      ]
     },
     "execution_count": 5,
     "metadata": {},
     "output_type": "execute_result"
    }
   ],
   "source": [
    "startups.head()"
   ]
  },
  {
   "cell_type": "code",
   "execution_count": 6,
   "metadata": {},
   "outputs": [
    {
     "data": {
      "text/html": [
       "<div>\n",
       "<style scoped>\n",
       "    .dataframe tbody tr th:only-of-type {\n",
       "        vertical-align: middle;\n",
       "    }\n",
       "\n",
       "    .dataframe tbody tr th {\n",
       "        vertical-align: top;\n",
       "    }\n",
       "\n",
       "    .dataframe thead th {\n",
       "        text-align: right;\n",
       "    }\n",
       "</style>\n",
       "<table border=\"1\" class=\"dataframe\">\n",
       "  <thead>\n",
       "    <tr style=\"text-align: right;\">\n",
       "      <th></th>\n",
       "      <th>Unnamed: 0</th>\n",
       "      <th>RnD_Expenditure</th>\n",
       "      <th>Admin_Costs</th>\n",
       "      <th>Marketing_Expenditure</th>\n",
       "      <th>Location</th>\n",
       "      <th>Net_Profit</th>\n",
       "      <th>Industry_Sector</th>\n",
       "      <th>Profit</th>\n",
       "      <th>Employee_Count</th>\n",
       "      <th>Investment_Round</th>\n",
       "      <th>Operational_Cost</th>\n",
       "    </tr>\n",
       "  </thead>\n",
       "  <tbody>\n",
       "    <tr>\n",
       "      <th>65</th>\n",
       "      <td>65</td>\n",
       "      <td>134093.502036</td>\n",
       "      <td>47327.344651</td>\n",
       "      <td>26681.272559</td>\n",
       "      <td>California</td>\n",
       "      <td>105423.930052</td>\n",
       "      <td>Tech</td>\n",
       "      <td>120378.804381</td>\n",
       "      <td>335</td>\n",
       "      <td>Seed</td>\n",
       "      <td>74008.617209</td>\n",
       "    </tr>\n",
       "    <tr>\n",
       "      <th>66</th>\n",
       "      <td>66</td>\n",
       "      <td>83460.960473</td>\n",
       "      <td>102975.139152</td>\n",
       "      <td>287058.802746</td>\n",
       "      <td>New York</td>\n",
       "      <td>-21313.506762</td>\n",
       "      <td>Healthcare</td>\n",
       "      <td>-14885.847169</td>\n",
       "      <td>430</td>\n",
       "      <td>Seed</td>\n",
       "      <td>390033.941898</td>\n",
       "    </tr>\n",
       "    <tr>\n",
       "      <th>67</th>\n",
       "      <td>67</td>\n",
       "      <td>111737.965689</td>\n",
       "      <td>125193.850785</td>\n",
       "      <td>73364.287453</td>\n",
       "      <td>New York</td>\n",
       "      <td>187372.314677</td>\n",
       "      <td>Finance</td>\n",
       "      <td>197551.192890</td>\n",
       "      <td>367</td>\n",
       "      <td>Seed</td>\n",
       "      <td>198558.138238</td>\n",
       "    </tr>\n",
       "    <tr>\n",
       "      <th>68</th>\n",
       "      <td>68</td>\n",
       "      <td>28077.387719</td>\n",
       "      <td>2743.241602</td>\n",
       "      <td>294652.768452</td>\n",
       "      <td>New York</td>\n",
       "      <td>62478.033370</td>\n",
       "      <td>Healthcare</td>\n",
       "      <td>64877.719983</td>\n",
       "      <td>258</td>\n",
       "      <td>Seed</td>\n",
       "      <td>297396.010053</td>\n",
       "    </tr>\n",
       "    <tr>\n",
       "      <th>69</th>\n",
       "      <td>69</td>\n",
       "      <td>39620.297817</td>\n",
       "      <td>112521.647242</td>\n",
       "      <td>349879.180010</td>\n",
       "      <td>Florida</td>\n",
       "      <td>94597.403597</td>\n",
       "      <td>Healthcare</td>\n",
       "      <td>98661.735576</td>\n",
       "      <td>31</td>\n",
       "      <td>Seed</td>\n",
       "      <td>462400.827252</td>\n",
       "    </tr>\n",
       "  </tbody>\n",
       "</table>\n",
       "</div>"
      ],
      "text/plain": [
       "    Unnamed: 0  RnD_Expenditure    Admin_Costs  Marketing_Expenditure  \\\n",
       "65          65    134093.502036   47327.344651           26681.272559   \n",
       "66          66     83460.960473  102975.139152          287058.802746   \n",
       "67          67    111737.965689  125193.850785           73364.287453   \n",
       "68          68     28077.387719    2743.241602          294652.768452   \n",
       "69          69     39620.297817  112521.647242          349879.180010   \n",
       "\n",
       "      Location     Net_Profit Industry_Sector         Profit  Employee_Count  \\\n",
       "65  California  105423.930052            Tech  120378.804381             335   \n",
       "66    New York  -21313.506762      Healthcare  -14885.847169             430   \n",
       "67    New York  187372.314677         Finance  197551.192890             367   \n",
       "68    New York   62478.033370      Healthcare   64877.719983             258   \n",
       "69     Florida   94597.403597      Healthcare   98661.735576              31   \n",
       "\n",
       "   Investment_Round  Operational_Cost  \n",
       "65             Seed      74008.617209  \n",
       "66             Seed     390033.941898  \n",
       "67             Seed     198558.138238  \n",
       "68             Seed     297396.010053  \n",
       "69             Seed     462400.827252  "
      ]
     },
     "execution_count": 6,
     "metadata": {},
     "output_type": "execute_result"
    }
   ],
   "source": [
    "startups.tail()"
   ]
  },
  {
   "cell_type": "code",
   "execution_count": 7,
   "metadata": {},
   "outputs": [],
   "source": [
    "startups.columns = startups.columns.str.lower()"
   ]
  },
  {
   "cell_type": "code",
   "execution_count": 8,
   "metadata": {},
   "outputs": [
    {
     "data": {
      "text/plain": [
       "unnamed: 0                 int64\n",
       "rnd_expenditure          float64\n",
       "admin_costs              float64\n",
       "marketing_expenditure    float64\n",
       "location                  object\n",
       "net_profit               float64\n",
       "industry_sector           object\n",
       "profit                   float64\n",
       "employee_count             int64\n",
       "investment_round          object\n",
       "operational_cost         float64\n",
       "dtype: object"
      ]
     },
     "execution_count": 8,
     "metadata": {},
     "output_type": "execute_result"
    }
   ],
   "source": [
    "startups.dtypes"
   ]
  },
  {
   "cell_type": "code",
   "execution_count": 9,
   "metadata": {},
   "outputs": [
    {
     "name": "stdout",
     "output_type": "stream",
     "text": [
      "<class 'pandas.core.frame.DataFrame'>\n",
      "RangeIndex: 70 entries, 0 to 69\n",
      "Data columns (total 11 columns):\n",
      " #   Column                 Non-Null Count  Dtype  \n",
      "---  ------                 --------------  -----  \n",
      " 0   unnamed: 0             70 non-null     int64  \n",
      " 1   rnd_expenditure        70 non-null     float64\n",
      " 2   admin_costs            70 non-null     float64\n",
      " 3   marketing_expenditure  70 non-null     float64\n",
      " 4   location               70 non-null     object \n",
      " 5   net_profit             70 non-null     float64\n",
      " 6   industry_sector        70 non-null     object \n",
      " 7   profit                 70 non-null     float64\n",
      " 8   employee_count         70 non-null     int64  \n",
      " 9   investment_round       70 non-null     object \n",
      " 10  operational_cost       70 non-null     float64\n",
      "dtypes: float64(6), int64(2), object(3)\n",
      "memory usage: 6.1+ KB\n"
     ]
    }
   ],
   "source": [
    "startups.info()"
   ]
  },
  {
   "cell_type": "code",
   "execution_count": 10,
   "metadata": {},
   "outputs": [
    {
     "data": {
      "text/plain": [
       "unnamed: 0               0\n",
       "rnd_expenditure          0\n",
       "admin_costs              0\n",
       "marketing_expenditure    0\n",
       "location                 0\n",
       "net_profit               0\n",
       "industry_sector          0\n",
       "profit                   0\n",
       "employee_count           0\n",
       "investment_round         0\n",
       "operational_cost         0\n",
       "dtype: int64"
      ]
     },
     "execution_count": 10,
     "metadata": {},
     "output_type": "execute_result"
    }
   ],
   "source": [
    "startups.isna().sum()"
   ]
  },
  {
   "cell_type": "markdown",
   "metadata": {},
   "source": [
    "El dataset no contiene valores faltantes."
   ]
  },
  {
   "cell_type": "markdown",
   "metadata": {},
   "source": [
    "### **Validación de datos**"
   ]
  },
  {
   "cell_type": "code",
   "execution_count": 11,
   "metadata": {},
   "outputs": [
    {
     "name": "stdout",
     "output_type": "stream",
     "text": [
      "--------------------------\n",
      "3 valores: ['New York' 'California' 'Florida']\n",
      "location\n",
      "New York      25\n",
      "California    25\n",
      "Florida       20\n",
      "Name: count, dtype: int64\n",
      "--------------------------\n",
      "5 valores: ['Energy' 'Tech' 'Finance' 'Healthcare' 'Retail']\n",
      "industry_sector\n",
      "Tech          18\n",
      "Healthcare    17\n",
      "Finance       13\n",
      "Energy        11\n",
      "Retail        11\n",
      "Name: count, dtype: int64\n",
      "--------------------------\n",
      "5 valores: ['Series A' 'Series B' 'Series C' 'IPO' 'Seed']\n",
      "investment_round\n",
      "Seed        37\n",
      "Series C    13\n",
      "Series B     9\n",
      "IPO          6\n",
      "Series A     5\n",
      "Name: count, dtype: int64\n"
     ]
    }
   ],
   "source": [
    "for col in startups.columns:\n",
    "    if startups[col].dtype == 'object':\n",
    "        print('--------------------------')\n",
    "        print(startups[col].nunique(),'valores:', startups[col].unique())\n",
    "        \n",
    "        print(startups[col].value_counts(ascending=False))"
   ]
  },
  {
   "cell_type": "markdown",
   "metadata": {},
   "source": [
    "### **Rondas de inversión**, ¿qué significa cada una? Las definiciones nos serán útiles para detectar outliers.\n",
    " - semilla: son las primeras rondas de financiamiento de una compañía y preceden a la Serie A. \n",
    "    \n",
    "        Se utiliza para llevar a una startup de idea hacia la tracción inicial, como el desarrollo de MVP, contratar a los primeros miembros del equipo, y realizar experimentos de mercado. \n",
    "    \n",
    "        En términos de inversión, en Rondas Semilla las startups levantan en promedio, USD $5 a USD $6 millones, en Estados Unidos.\n",
    "\n",
    " - serie a: \n",
    "        es considerada la primera ronda de inversión de venture capital (VC) de una startup, pues la financiación proviene principalmente de las firmas de venture capital.   \n",
    "        \n",
    "        Usualmente, una startup levanta una Serie A después de una ronda semilla (seed round). \n",
    "        \n",
    "        En términos de inversión, las Series A recaudan en promedio, USD $15 millones, en Estados Unidos.\n",
    "\n",
    " - serie b: \n",
    "        considerada la segunda ronda de inversión de venture capital (VC) de una startup, pues la financiación proviene principalmente de las firmas de venture capital. \n",
    "        \n",
    "        Usualmente, una startup levanta una Serie B después de una serie A. \n",
    "        \n",
    "        En términos generales, una ronda Serie B financia una estrategia de crecimiento más agresiva y que la startup se enfoque más en la rentabilidad.\n",
    "        \n",
    "        En términos de inversión, en una Serie B se levanta en promedio, USD $20 a $80 millones.\n",
    "\n",
    " - serie c: \n",
    "        el objetivo es obtener más plata para el desarrollo de nuevos productos, adquisiciones o incluso, para empezar a preparar lo que podría ser la salida a cotización en la Bolsa. \n",
    "        \n",
    "        Las cifras de esta ronda de inversión son generalmente de 50 millones de dólares en adelante.\n",
    "        \n",
    " - ipo: incorporación de una empresa al mercado de valores al emitir sus primeras acciones para atraer capital público.\n"
   ]
  },
  {
   "cell_type": "code",
   "execution_count": 12,
   "metadata": {},
   "outputs": [
    {
     "data": {
      "text/html": [
       "<div>\n",
       "<style scoped>\n",
       "    .dataframe tbody tr th:only-of-type {\n",
       "        vertical-align: middle;\n",
       "    }\n",
       "\n",
       "    .dataframe tbody tr th {\n",
       "        vertical-align: top;\n",
       "    }\n",
       "\n",
       "    .dataframe thead th {\n",
       "        text-align: right;\n",
       "    }\n",
       "</style>\n",
       "<table border=\"1\" class=\"dataframe\">\n",
       "  <thead>\n",
       "    <tr style=\"text-align: right;\">\n",
       "      <th></th>\n",
       "      <th>unnamed: 0</th>\n",
       "      <th>rnd_expenditure</th>\n",
       "      <th>admin_costs</th>\n",
       "      <th>marketing_expenditure</th>\n",
       "      <th>net_profit</th>\n",
       "      <th>profit</th>\n",
       "      <th>employee_count</th>\n",
       "      <th>operational_cost</th>\n",
       "    </tr>\n",
       "  </thead>\n",
       "  <tbody>\n",
       "    <tr>\n",
       "      <th>count</th>\n",
       "      <td>70.0</td>\n",
       "      <td>70.0</td>\n",
       "      <td>70.0</td>\n",
       "      <td>70.0</td>\n",
       "      <td>70.0</td>\n",
       "      <td>70.0</td>\n",
       "      <td>70.0</td>\n",
       "      <td>70.0</td>\n",
       "    </tr>\n",
       "    <tr>\n",
       "      <th>mean</th>\n",
       "      <td>34.5</td>\n",
       "      <td>73645.8</td>\n",
       "      <td>110300.3</td>\n",
       "      <td>212933.0</td>\n",
       "      <td>108074.6</td>\n",
       "      <td>120746.5</td>\n",
       "      <td>264.5</td>\n",
       "      <td>323233.3</td>\n",
       "    </tr>\n",
       "    <tr>\n",
       "      <th>std</th>\n",
       "      <td>20.4</td>\n",
       "      <td>46643.7</td>\n",
       "      <td>39611.4</td>\n",
       "      <td>129284.2</td>\n",
       "      <td>49144.6</td>\n",
       "      <td>55478.9</td>\n",
       "      <td>141.1</td>\n",
       "      <td>135322.6</td>\n",
       "    </tr>\n",
       "    <tr>\n",
       "      <th>min</th>\n",
       "      <td>0.0</td>\n",
       "      <td>0.0</td>\n",
       "      <td>2743.2</td>\n",
       "      <td>0.0</td>\n",
       "      <td>-21313.5</td>\n",
       "      <td>-14885.8</td>\n",
       "      <td>10.0</td>\n",
       "      <td>24435.5</td>\n",
       "    </tr>\n",
       "    <tr>\n",
       "      <th>25%</th>\n",
       "      <td>17.2</td>\n",
       "      <td>37578.7</td>\n",
       "      <td>96962.6</td>\n",
       "      <td>120540.4</td>\n",
       "      <td>78931.4</td>\n",
       "      <td>83428.6</td>\n",
       "      <td>144.8</td>\n",
       "      <td>219525.1</td>\n",
       "    </tr>\n",
       "    <tr>\n",
       "      <th>50%</th>\n",
       "      <td>34.5</td>\n",
       "      <td>73051.1</td>\n",
       "      <td>118609.0</td>\n",
       "      <td>212716.2</td>\n",
       "      <td>106661.2</td>\n",
       "      <td>119810.7</td>\n",
       "      <td>262.0</td>\n",
       "      <td>322937.7</td>\n",
       "    </tr>\n",
       "    <tr>\n",
       "      <th>75%</th>\n",
       "      <td>51.8</td>\n",
       "      <td>106300.8</td>\n",
       "      <td>136547.1</td>\n",
       "      <td>302423.8</td>\n",
       "      <td>140623.0</td>\n",
       "      <td>160098.3</td>\n",
       "      <td>393.0</td>\n",
       "      <td>413510.7</td>\n",
       "    </tr>\n",
       "    <tr>\n",
       "      <th>max</th>\n",
       "      <td>69.0</td>\n",
       "      <td>175623.5</td>\n",
       "      <td>182645.6</td>\n",
       "      <td>494430.5</td>\n",
       "      <td>192261.8</td>\n",
       "      <td>227095.7</td>\n",
       "      <td>497.0</td>\n",
       "      <td>614542.2</td>\n",
       "    </tr>\n",
       "  </tbody>\n",
       "</table>\n",
       "</div>"
      ],
      "text/plain": [
       "       unnamed: 0  rnd_expenditure  admin_costs  marketing_expenditure  \\\n",
       "count        70.0             70.0         70.0                   70.0   \n",
       "mean         34.5          73645.8     110300.3               212933.0   \n",
       "std          20.4          46643.7      39611.4               129284.2   \n",
       "min           0.0              0.0       2743.2                    0.0   \n",
       "25%          17.2          37578.7      96962.6               120540.4   \n",
       "50%          34.5          73051.1     118609.0               212716.2   \n",
       "75%          51.8         106300.8     136547.1               302423.8   \n",
       "max          69.0         175623.5     182645.6               494430.5   \n",
       "\n",
       "       net_profit    profit  employee_count  operational_cost  \n",
       "count        70.0      70.0            70.0              70.0  \n",
       "mean     108074.6  120746.5           264.5          323233.3  \n",
       "std       49144.6   55478.9           141.1          135322.6  \n",
       "min      -21313.5  -14885.8            10.0           24435.5  \n",
       "25%       78931.4   83428.6           144.8          219525.1  \n",
       "50%      106661.2  119810.7           262.0          322937.7  \n",
       "75%      140623.0  160098.3           393.0          413510.7  \n",
       "max      192261.8  227095.7           497.0          614542.2  "
      ]
     },
     "execution_count": 12,
     "metadata": {},
     "output_type": "execute_result"
    }
   ],
   "source": [
    "startups.describe().round(1)"
   ]
  },
  {
   "cell_type": "markdown",
   "metadata": {},
   "source": [
    "### Inconsistencias de presentación de resultados. \n",
    "Resultados netos mayores a resultados brutos. ¿Hay empresas que presentaron de esta manera? Si, los hay, se quitan."
   ]
  },
  {
   "cell_type": "code",
   "execution_count": 13,
   "metadata": {},
   "outputs": [
    {
     "data": {
      "text/html": [
       "<div>\n",
       "<style scoped>\n",
       "    .dataframe tbody tr th:only-of-type {\n",
       "        vertical-align: middle;\n",
       "    }\n",
       "\n",
       "    .dataframe tbody tr th {\n",
       "        vertical-align: top;\n",
       "    }\n",
       "\n",
       "    .dataframe thead th {\n",
       "        text-align: right;\n",
       "    }\n",
       "</style>\n",
       "<table border=\"1\" class=\"dataframe\">\n",
       "  <thead>\n",
       "    <tr style=\"text-align: right;\">\n",
       "      <th></th>\n",
       "      <th>unnamed: 0</th>\n",
       "      <th>rnd_expenditure</th>\n",
       "      <th>admin_costs</th>\n",
       "      <th>marketing_expenditure</th>\n",
       "      <th>location</th>\n",
       "      <th>net_profit</th>\n",
       "      <th>industry_sector</th>\n",
       "      <th>profit</th>\n",
       "      <th>employee_count</th>\n",
       "      <th>investment_round</th>\n",
       "      <th>operational_cost</th>\n",
       "    </tr>\n",
       "  </thead>\n",
       "  <tbody>\n",
       "    <tr>\n",
       "      <th>45</th>\n",
       "      <td>45</td>\n",
       "      <td>1000.230000</td>\n",
       "      <td>124153.040000</td>\n",
       "      <td>1903.930000</td>\n",
       "      <td>New York</td>\n",
       "      <td>64926.080000</td>\n",
       "      <td>Energy</td>\n",
       "      <td>64688.051698</td>\n",
       "      <td>461</td>\n",
       "      <td>Seed</td>\n",
       "      <td>126056.970000</td>\n",
       "    </tr>\n",
       "    <tr>\n",
       "      <th>46</th>\n",
       "      <td>46</td>\n",
       "      <td>1315.460000</td>\n",
       "      <td>115816.210000</td>\n",
       "      <td>297114.460000</td>\n",
       "      <td>Florida</td>\n",
       "      <td>49490.750000</td>\n",
       "      <td>Tech</td>\n",
       "      <td>48501.046640</td>\n",
       "      <td>92</td>\n",
       "      <td>Seed</td>\n",
       "      <td>412930.670000</td>\n",
       "    </tr>\n",
       "    <tr>\n",
       "      <th>48</th>\n",
       "      <td>48</td>\n",
       "      <td>542.050000</td>\n",
       "      <td>51743.150000</td>\n",
       "      <td>0.000000</td>\n",
       "      <td>New York</td>\n",
       "      <td>35673.410000</td>\n",
       "      <td>Healthcare</td>\n",
       "      <td>34167.922152</td>\n",
       "      <td>237</td>\n",
       "      <td>Series A</td>\n",
       "      <td>51743.150000</td>\n",
       "    </tr>\n",
       "    <tr>\n",
       "      <th>49</th>\n",
       "      <td>49</td>\n",
       "      <td>0.000000</td>\n",
       "      <td>116983.800000</td>\n",
       "      <td>45173.060000</td>\n",
       "      <td>California</td>\n",
       "      <td>14681.400000</td>\n",
       "      <td>Energy</td>\n",
       "      <td>14468.659720</td>\n",
       "      <td>158</td>\n",
       "      <td>Seed</td>\n",
       "      <td>162156.860000</td>\n",
       "    </tr>\n",
       "    <tr>\n",
       "      <th>52</th>\n",
       "      <td>52</td>\n",
       "      <td>22.874963</td>\n",
       "      <td>47013.626724</td>\n",
       "      <td>140221.996032</td>\n",
       "      <td>California</td>\n",
       "      <td>181877.145099</td>\n",
       "      <td>Tech</td>\n",
       "      <td>180909.147951</td>\n",
       "      <td>222</td>\n",
       "      <td>Seed</td>\n",
       "      <td>187235.622756</td>\n",
       "    </tr>\n",
       "  </tbody>\n",
       "</table>\n",
       "</div>"
      ],
      "text/plain": [
       "    unnamed: 0  rnd_expenditure    admin_costs  marketing_expenditure  \\\n",
       "45          45      1000.230000  124153.040000            1903.930000   \n",
       "46          46      1315.460000  115816.210000          297114.460000   \n",
       "48          48       542.050000   51743.150000               0.000000   \n",
       "49          49         0.000000  116983.800000           45173.060000   \n",
       "52          52        22.874963   47013.626724          140221.996032   \n",
       "\n",
       "      location     net_profit industry_sector         profit  employee_count  \\\n",
       "45    New York   64926.080000          Energy   64688.051698             461   \n",
       "46     Florida   49490.750000            Tech   48501.046640              92   \n",
       "48    New York   35673.410000      Healthcare   34167.922152             237   \n",
       "49  California   14681.400000          Energy   14468.659720             158   \n",
       "52  California  181877.145099            Tech  180909.147951             222   \n",
       "\n",
       "   investment_round  operational_cost  \n",
       "45             Seed     126056.970000  \n",
       "46             Seed     412930.670000  \n",
       "48         Series A      51743.150000  \n",
       "49             Seed     162156.860000  \n",
       "52             Seed     187235.622756  "
      ]
     },
     "execution_count": 13,
     "metadata": {},
     "output_type": "execute_result"
    }
   ],
   "source": [
    "inconsistencia_economica = startups['net_profit'] > startups['profit']\n",
    "startups_con_utilidades_inconsistentes = startups[inconsistencia_economica]\n",
    "startups_con_utilidades_inconsistentes"
   ]
  },
  {
   "cell_type": "markdown",
   "metadata": {},
   "source": [
    "Eliminamos las startups con las inconsistencias mencionadas."
   ]
  },
  {
   "cell_type": "code",
   "execution_count": 14,
   "metadata": {},
   "outputs": [],
   "source": [
    "startups = startups[~inconsistencia_economica]"
   ]
  },
  {
   "cell_type": "code",
   "execution_count": 15,
   "metadata": {},
   "outputs": [
    {
     "data": {
      "text/plain": [
       "Index(['rnd_expenditure', 'admin_costs', 'marketing_expenditure', 'location',\n",
       "       'net_profit', 'industry_sector', 'profit', 'employee_count',\n",
       "       'investment_round', 'operational_cost'],\n",
       "      dtype='object')"
      ]
     },
     "execution_count": 15,
     "metadata": {},
     "output_type": "execute_result"
    }
   ],
   "source": [
    "startups.drop(columns='unnamed: 0', inplace=True)\n",
    "startups.columns"
   ]
  },
  {
   "cell_type": "markdown",
   "metadata": {},
   "source": [
    "## **Outliers** "
   ]
  },
  {
   "cell_type": "code",
   "execution_count": 16,
   "metadata": {},
   "outputs": [
    {
     "data": {
      "text/plain": [
       "<Axes: >"
      ]
     },
     "execution_count": 16,
     "metadata": {},
     "output_type": "execute_result"
    },
    {
     "data": {
      "image/png": "[encoded data removed]",
      "text/plain": [
       "<Figure size 1000x500 with 1 Axes>"
      ]
     },
     "metadata": {},
     "output_type": "display_data"
    }
   ],
   "source": [
    "plt.figure(figsize=(10,5))\n",
    "sns.boxplot(data=startups)"
   ]
  },
  {
   "cell_type": "markdown",
   "metadata": {},
   "source": [
    "Podemos observar la presencia de outliers por encima del primer cuartil y el tercer cuartil del box plot en admin_costs, net_profit y profit.\n",
    "\n",
    "Para encontrar y filtrar dichos outliers del df, crearemos una función que nos ayuda a removerlos. \n",
    " - Encontrar el valor intercuartil que puede ser calculado con la diferencia entre los valores del tercer y primer cuartil. \n",
    " - Seleccionamos las startups que quedan fuera del rango y las removemos."
   ]
  },
  {
   "cell_type": "code",
   "execution_count": 17,
   "metadata": {},
   "outputs": [
    {
     "data": {
      "text/plain": [
       "Index(['rnd_expenditure', 'admin_costs', 'marketing_expenditure', 'location',\n",
       "       'net_profit', 'industry_sector', 'profit', 'employee_count',\n",
       "       'investment_round', 'operational_cost'],\n",
       "      dtype='object')"
      ]
     },
     "execution_count": 17,
     "metadata": {},
     "output_type": "execute_result"
    }
   ],
   "source": [
    "startups.columns"
   ]
  },
  {
   "cell_type": "code",
   "execution_count": 18,
   "metadata": {},
   "outputs": [],
   "source": [
    "def sin_outliers(datos):\n",
    "    q1 = np.quantile(datos, 0.25)\n",
    "    q3 = np.quantile(datos, 0.75)\n",
    "    iqr = q3 - q1\n",
    "    rango_bajo = q1 - 1.5 * iqr\n",
    "    rango_alto = q3 + 1.5 * iqr\n",
    "    return (datos > rango_bajo) & (datos < rango_alto)"
   ]
  },
  {
   "cell_type": "code",
   "execution_count": 19,
   "metadata": {},
   "outputs": [
    {
     "data": {
      "text/plain": [
       "<Axes: >"
      ]
     },
     "execution_count": 19,
     "metadata": {},
     "output_type": "execute_result"
    },
    {
     "data": {
      "image/png": "[encoded data removed]",
      "text/plain": [
       "<Figure size 1000x500 with 1 Axes>"
      ]
     },
     "metadata": {},
     "output_type": "display_data"
    }
   ],
   "source": [
    "startups = startups[sin_outliers(startups['admin_costs'])]\n",
    "startups = startups[sin_outliers(startups['net_profit'])]\n",
    "startups = startups[sin_outliers(startups['profit'])]\n",
    "plt.figure(figsize=(10,5))\n",
    "sns.boxplot(data=startups)"
   ]
  },
  {
   "cell_type": "markdown",
   "metadata": {},
   "source": [
    "### Conclusiones de las variables númericas\n"
   ]
  },
  {
   "cell_type": "markdown",
   "metadata": {},
   "source": [
    "### **Correlaciones**"
   ]
  },
  {
   "cell_type": "code",
   "execution_count": 20,
   "metadata": {},
   "outputs": [
    {
     "data": {
      "text/plain": [
       "<Axes: >"
      ]
     },
     "execution_count": 20,
     "metadata": {},
     "output_type": "execute_result"
    },
    {
     "data": {
      "image/png": "[encoded data removed]",
      "text/plain": [
       "<Figure size 640x480 with 2 Axes>"
      ]
     },
     "metadata": {},
     "output_type": "display_data"
    }
   ],
   "source": [
    "sns.heatmap(data=round(startups.corr(numeric_only=True),2), annot=True, cmap='RdYlGn')"
   ]
  },
  {
   "cell_type": "markdown",
   "metadata": {},
   "source": [
    " - research_and_delevopement_expenditure: fuerte correlación con los beneficios de las startups. aquellas que alocan capital en la investigacion y desarrollo del negocio suelen conseguir mayores beneficios y viceversa.\n",
    " - admin_costs: se relaciona positivamente pero a la vez débil con la cantidad de empleados que una startup contiene. En otras palabras, el número de empleados no explica la variación en los gastos de administración de manera significativa, o viceversa.\n",
    " - marketing_expenditure: a medida que aumenta el gasto en marketing, la cantidad de empleados baja (-0.18), ya que se correlacionan negativamente. Cuasi perfecta relación entre gastos de marketing y costos operativos. "
   ]
  },
  {
   "cell_type": "markdown",
   "metadata": {},
   "source": [
    "## **Modelo de regresión lineal para predecir el beneficio neto**"
   ]
  },
  {
   "cell_type": "markdown",
   "metadata": {},
   "source": [
    "1. Importamos la biblioteca statsmodels"
   ]
  },
  {
   "cell_type": "code",
   "execution_count": 21,
   "metadata": {},
   "outputs": [],
   "source": [
    "import statsmodels.formula.api as smf"
   ]
  },
  {
   "cell_type": "markdown",
   "metadata": {},
   "source": [
    "2. Seleccionamos e instanciamos features del modelo (X)"
   ]
  },
  {
   "cell_type": "code",
   "execution_count": 22,
   "metadata": {},
   "outputs": [],
   "source": [
    "features_ben_neto = ['admin_costs', 'operational_cost', 'rnd_expenditure', 'employee_count', 'marketing_expenditure']"
   ]
  },
  {
   "cell_type": "markdown",
   "metadata": {},
   "source": [
    "3. Instanciamos variable independiente (Y), beneficio neto"
   ]
  },
  {
   "cell_type": "code",
   "execution_count": 23,
   "metadata": {},
   "outputs": [],
   "source": [
    "y = 'net_profit'"
   ]
  },
  {
   "cell_type": "markdown",
   "metadata": {},
   "source": [
    "4. Instanciamos el modelo de regresión lineal y lo entrenamos para encontrar la mejor línea"
   ]
  },
  {
   "cell_type": "code",
   "execution_count": 24,
   "metadata": {},
   "outputs": [
    {
     "data": {
      "text/plain": [
       "'net_profit ~ admin_costs + operational_cost + rnd_expenditure + employee_count + marketing_expenditure'"
      ]
     },
     "execution_count": 24,
     "metadata": {},
     "output_type": "execute_result"
    }
   ],
   "source": [
    "formula = y + ' ~ ' + ' + '.join(features_ben_neto)\n",
    "formula"
   ]
  },
  {
   "cell_type": "code",
   "execution_count": 25,
   "metadata": {},
   "outputs": [],
   "source": [
    "model = smf.ols(formula=formula, data=startups).fit()"
   ]
  },
  {
   "cell_type": "markdown",
   "metadata": {},
   "source": [
    "5. Imprimimos resumen del modelo"
   ]
  },
  {
   "cell_type": "code",
   "execution_count": 26,
   "metadata": {},
   "outputs": [
    {
     "data": {
      "text/html": [
       "<table class=\"simpletable\">\n",
       "<caption>OLS Regression Results</caption>\n",
       "<tr>\n",
       "  <th>Dep. Variable:</th>       <td>net_profit</td>    <th>  R-squared:         </th> <td>   0.601</td>\n",
       "</tr>\n",
       "<tr>\n",
       "  <th>Model:</th>                   <td>OLS</td>       <th>  Adj. R-squared:    </th> <td>   0.570</td>\n",
       "</tr>\n",
       "<tr>\n",
       "  <th>Method:</th>             <td>Least Squares</td>  <th>  F-statistic:       </th> <td>   19.93</td>\n",
       "</tr>\n",
       "<tr>\n",
       "  <th>Date:</th>             <td>Wed, 08 Nov 2023</td> <th>  Prob (F-statistic):</th> <td>4.62e-10</td>\n",
       "</tr>\n",
       "<tr>\n",
       "  <th>Time:</th>                 <td>22:03:37</td>     <th>  Log-Likelihood:    </th> <td> -670.16</td>\n",
       "</tr>\n",
       "<tr>\n",
       "  <th>No. Observations:</th>      <td>    58</td>      <th>  AIC:               </th> <td>   1350.</td>\n",
       "</tr>\n",
       "<tr>\n",
       "  <th>Df Residuals:</th>          <td>    53</td>      <th>  BIC:               </th> <td>   1361.</td>\n",
       "</tr>\n",
       "<tr>\n",
       "  <th>Df Model:</th>              <td>     4</td>      <th>                     </th>     <td> </td>   \n",
       "</tr>\n",
       "<tr>\n",
       "  <th>Covariance Type:</th>      <td>nonrobust</td>    <th>                     </th>     <td> </td>   \n",
       "</tr>\n",
       "</table>\n",
       "<table class=\"simpletable\">\n",
       "<tr>\n",
       "            <td></td>               <th>coef</th>     <th>std err</th>      <th>t</th>      <th>P>|t|</th>  <th>[0.025</th>    <th>0.975]</th>  \n",
       "</tr>\n",
       "<tr>\n",
       "  <th>Intercept</th>             <td> 6.111e+04</td> <td> 1.82e+04</td> <td>    3.364</td> <td> 0.001</td> <td> 2.47e+04</td> <td> 9.75e+04</td>\n",
       "</tr>\n",
       "<tr>\n",
       "  <th>admin_costs</th>           <td>    0.0262</td> <td>    0.084</td> <td>    0.312</td> <td> 0.756</td> <td>   -0.142</td> <td>    0.194</td>\n",
       "</tr>\n",
       "<tr>\n",
       "  <th>operational_cost</th>      <td>    0.0204</td> <td>    0.044</td> <td>    0.464</td> <td> 0.644</td> <td>   -0.068</td> <td>    0.109</td>\n",
       "</tr>\n",
       "<tr>\n",
       "  <th>rnd_expenditure</th>       <td>    0.6815</td> <td>    0.089</td> <td>    7.643</td> <td> 0.000</td> <td>    0.503</td> <td>    0.860</td>\n",
       "</tr>\n",
       "<tr>\n",
       "  <th>employee_count</th>        <td>  -29.1118</td> <td>   25.546</td> <td>   -1.140</td> <td> 0.260</td> <td>  -80.350</td> <td>   22.126</td>\n",
       "</tr>\n",
       "<tr>\n",
       "  <th>marketing_expenditure</th> <td>   -0.0057</td> <td>    0.046</td> <td>   -0.125</td> <td> 0.901</td> <td>   -0.098</td> <td>    0.086</td>\n",
       "</tr>\n",
       "</table>\n",
       "<table class=\"simpletable\">\n",
       "<tr>\n",
       "  <th>Omnibus:</th>       <td>20.284</td> <th>  Durbin-Watson:     </th> <td>   2.215</td>\n",
       "</tr>\n",
       "<tr>\n",
       "  <th>Prob(Omnibus):</th> <td> 0.000</td> <th>  Jarque-Bera (JB):  </th> <td>  47.009</td>\n",
       "</tr>\n",
       "<tr>\n",
       "  <th>Skew:</th>          <td>-0.970</td> <th>  Prob(JB):          </th> <td>6.20e-11</td>\n",
       "</tr>\n",
       "<tr>\n",
       "  <th>Kurtosis:</th>      <td> 6.961</td> <th>  Cond. No.          </th> <td>1.37e+16</td>\n",
       "</tr>\n",
       "</table><br/><br/>Notes:<br/>[1] Standard Errors assume that the covariance matrix of the errors is correctly specified.<br/>[2] The smallest eigenvalue is 6.5e-20. This might indicate that there are<br/>strong multicollinearity problems or that the design matrix is singular."
      ],
      "text/latex": [
       "\\begin{center}\n",
       "\\begin{tabular}{lclc}\n",
       "\\toprule\n",
       "\\textbf{Dep. Variable:}         &   net\\_profit    & \\textbf{  R-squared:         } &     0.601   \\\\\n",
       "\\textbf{Model:}                 &       OLS        & \\textbf{  Adj. R-squared:    } &     0.570   \\\\\n",
       "\\textbf{Method:}                &  Least Squares   & \\textbf{  F-statistic:       } &     19.93   \\\\\n",
       "\\textbf{Date:}                  & Wed, 08 Nov 2023 & \\textbf{  Prob (F-statistic):} &  4.62e-10   \\\\\n",
       "\\textbf{Time:}                  &     22:03:37     & \\textbf{  Log-Likelihood:    } &   -670.16   \\\\\n",
       "\\textbf{No. Observations:}      &          58      & \\textbf{  AIC:               } &     1350.   \\\\\n",
       "\\textbf{Df Residuals:}          &          53      & \\textbf{  BIC:               } &     1361.   \\\\\n",
       "\\textbf{Df Model:}              &           4      & \\textbf{                     } &             \\\\\n",
       "\\textbf{Covariance Type:}       &    nonrobust     & \\textbf{                     } &             \\\\\n",
       "\\bottomrule\n",
       "\\end{tabular}\n",
       "\\begin{tabular}{lcccccc}\n",
       "                                & \\textbf{coef} & \\textbf{std err} & \\textbf{t} & \\textbf{P$> |$t$|$} & \\textbf{[0.025} & \\textbf{0.975]}  \\\\\n",
       "\\midrule\n",
       "\\textbf{Intercept}              &    6.111e+04  &     1.82e+04     &     3.364  &         0.001        &     2.47e+04    &     9.75e+04     \\\\\n",
       "\\textbf{admin\\_costs}           &       0.0262  &        0.084     &     0.312  &         0.756        &       -0.142    &        0.194     \\\\\n",
       "\\textbf{operational\\_cost}      &       0.0204  &        0.044     &     0.464  &         0.644        &       -0.068    &        0.109     \\\\\n",
       "\\textbf{rnd\\_expenditure}       &       0.6815  &        0.089     &     7.643  &         0.000        &        0.503    &        0.860     \\\\\n",
       "\\textbf{employee\\_count}        &     -29.1118  &       25.546     &    -1.140  &         0.260        &      -80.350    &       22.126     \\\\\n",
       "\\textbf{marketing\\_expenditure} &      -0.0057  &        0.046     &    -0.125  &         0.901        &       -0.098    &        0.086     \\\\\n",
       "\\bottomrule\n",
       "\\end{tabular}\n",
       "\\begin{tabular}{lclc}\n",
       "\\textbf{Omnibus:}       & 20.284 & \\textbf{  Durbin-Watson:     } &    2.215  \\\\\n",
       "\\textbf{Prob(Omnibus):} &  0.000 & \\textbf{  Jarque-Bera (JB):  } &   47.009  \\\\\n",
       "\\textbf{Skew:}          & -0.970 & \\textbf{  Prob(JB):          } & 6.20e-11  \\\\\n",
       "\\textbf{Kurtosis:}      &  6.961 & \\textbf{  Cond. No.          } & 1.37e+16  \\\\\n",
       "\\bottomrule\n",
       "\\end{tabular}\n",
       "%\\caption{OLS Regression Results}\n",
       "\\end{center}\n",
       "\n",
       "Notes: \\newline\n",
       " [1] Standard Errors assume that the covariance matrix of the errors is correctly specified. \\newline\n",
       " [2] The smallest eigenvalue is 6.5e-20. This might indicate that there are \\newline\n",
       " strong multicollinearity problems or that the design matrix is singular."
      ],
      "text/plain": [
       "<class 'statsmodels.iolib.summary.Summary'>\n",
       "\"\"\"\n",
       "                            OLS Regression Results                            \n",
       "==============================================================================\n",
       "Dep. Variable:             net_profit   R-squared:                       0.601\n",
       "Model:                            OLS   Adj. R-squared:                  0.570\n",
       "Method:                 Least Squares   F-statistic:                     19.93\n",
       "Date:                Wed, 08 Nov 2023   Prob (F-statistic):           4.62e-10\n",
       "Time:                        22:03:37   Log-Likelihood:                -670.16\n",
       "No. Observations:                  58   AIC:                             1350.\n",
       "Df Residuals:                      53   BIC:                             1361.\n",
       "Df Model:                           4                                         \n",
       "Covariance Type:            nonrobust                                         \n",
       "=========================================================================================\n",
       "                            coef    std err          t      P>|t|      [0.025      0.975]\n",
       "-----------------------------------------------------------------------------------------\n",
       "Intercept              6.111e+04   1.82e+04      3.364      0.001    2.47e+04    9.75e+04\n",
       "admin_costs               0.0262      0.084      0.312      0.756      -0.142       0.194\n",
       "operational_cost          0.0204      0.044      0.464      0.644      -0.068       0.109\n",
       "rnd_expenditure           0.6815      0.089      7.643      0.000       0.503       0.860\n",
       "employee_count          -29.1118     25.546     -1.140      0.260     -80.350      22.126\n",
       "marketing_expenditure    -0.0057      0.046     -0.125      0.901      -0.098       0.086\n",
       "==============================================================================\n",
       "Omnibus:                       20.284   Durbin-Watson:                   2.215\n",
       "Prob(Omnibus):                  0.000   Jarque-Bera (JB):               47.009\n",
       "Skew:                          -0.970   Prob(JB):                     6.20e-11\n",
       "Kurtosis:                       6.961   Cond. No.                     1.37e+16\n",
       "==============================================================================\n",
       "\n",
       "Notes:\n",
       "[1] Standard Errors assume that the covariance matrix of the errors is correctly specified.\n",
       "[2] The smallest eigenvalue is 6.5e-20. This might indicate that there are\n",
       "strong multicollinearity problems or that the design matrix is singular.\n",
       "\"\"\""
      ]
     },
     "execution_count": 26,
     "metadata": {},
     "output_type": "execute_result"
    }
   ],
   "source": [
    "model.summary()"
   ]
  },
  {
   "cell_type": "markdown",
   "metadata": {},
   "source": [
    "## **Intuición detrás del modelo de regresión lineal resultante**"
   ]
  },
  {
   "cell_type": "markdown",
   "metadata": {},
   "source": [
    " - El R^2 de 0.601 indica que el modelo explica un 60,1% de la varianza del beneficio neto. Es decir, un 60,1% de la variación en el beneficio neto generado por las startups, se explica por las variaciones de los costos de administración, los costos operativos, los gastos en I&D, la cantidad de empleados y los gastos en marketing. El resto de la varianza puede atribuirse al azar o a otras variables que no hemos incorporado al modelo.\n",
    "\n",
    " - Se testeó la significancia general del modelo con el F-statistic. La h0 dice que los betas son todos ceros, la h1, al menos un beta es distinto a cero. Si todos los betas son cero, entonces ninguna de las variables dependientes importa, entonces el modelo no tiene mérito. F statistic de 19.93, el p-value es aproximadamente 0,000. El modelo es significamente estadístico. Al menos una de los features se relaciona con la variable dependiente.\n",
    "\n",
    " - Si todas las features seleccionadas tuvieran valor igual a cero, el beneficio neto de la empresa sería de $61.110, 00.\n",
    " \n",
    " \n",
    "\n",
    " Dejando las demás variables igual a cero: \n",
    " - Por cada dólar adicional en costos de administración, el beneficio neto aumenta 0,0262 dólares.\n",
    " - Por cada dólar adicional en costos operativos, el beneficio neto aumenta 0,0204 dólares.\n",
    " - Por cada dólar adicional en gastos de I&D, el beneficio neto aumenta 0,6815 dólares.\n",
    " - Por cada empleado contratado adicional, el beneficio neto disminuye 29 dólares.\n",
    " - Por cada dólar adicional en gastos de marketing, el beneficio net disminuye 0,0057 dólares.\n",
    "\n",
    "Observemos las significaciones estadísticas de cada feature:\n",
    "- En admin_costs, operational_cost, employee_count y marketing_expenditure, el cero está incluido, por ende, no son estadísticamente significativas en la predicción del net_profit.\n",
    "- Únicamente en rnd_expenditure, se considera estadísticamente significativa para predecir el beneficio neto de las startups.\n",
    "\n",
    "Esto se resume con los p-values además: rnd_expenditure es la variable dependiente que es estadísticamente significativa para predecir beneficios netos ya que su p-value es menor a 0.005 y las demás no lo son.\n",
    "\n",
    "Y por último, siendo rnd_expenditure la de mayor t-value, significa que la relación entre los gastos en investigación y desarrollo y el beneficio neto indica que es muy poco probable que sea debida al azar.\n",
    " "
   ]
  },
  {
   "cell_type": "markdown",
   "metadata": {},
   "source": [
    "## **Error promedio y error elevado al cuadrado**"
   ]
  },
  {
   "cell_type": "markdown",
   "metadata": {},
   "source": [
    "## Error promedio\n",
    "Es el promedio de la diferencia absoluta entre el valor observado y los valores predichos. Si hacemos el error promedio absoluto, todas las diferencias se ponderarán por igual en el promedio."
   ]
  },
  {
   "cell_type": "markdown",
   "metadata": {},
   "source": [
    "mae = (1/n) * Σ | yi – xi | \n",
    "- n: número total de observaciones\n",
    "- Σ: suma\n",
    "- yi: el valor observado para la i - ésima observación\n",
    "- xi:  el valor predicho para la i - ésima observación"
   ]
  },
  {
   "cell_type": "code",
   "execution_count": 27,
   "metadata": {},
   "outputs": [],
   "source": [
    "startups['net_profits_predicted'] = model.predict(startups[features_ben_neto])"
   ]
  },
  {
   "cell_type": "code",
   "execution_count": 28,
   "metadata": {},
   "outputs": [],
   "source": [
    "startups['error_modelo_net_profit'] = startups['net_profit'] - startups['net_profits_predicted'] "
   ]
  },
  {
   "cell_type": "code",
   "execution_count": 29,
   "metadata": {},
   "outputs": [
    {
     "data": {
      "text/plain": [
       "1.016125115084237e-10"
      ]
     },
     "execution_count": 29,
     "metadata": {},
     "output_type": "execute_result"
    }
   ],
   "source": [
    "startups['error_modelo_net_profit'].mean()"
   ]
  },
  {
   "cell_type": "markdown",
   "metadata": {},
   "source": [
    "En promedio, los beneficios netos predichos difieren en 0.00000000001 aproximadamente de los valores reales. "
   ]
  },
  {
   "cell_type": "markdown",
   "metadata": {},
   "source": [
    "## Error elevado al cuadrado\n",
    "MSE, mide el promedio de los cuadrados de los errores, es decir, la diferencia promedio al cuadrado entre los valores estimados y el valor real."
   ]
  },
  {
   "cell_type": "code",
   "execution_count": 30,
   "metadata": {},
   "outputs": [
    {
     "name": "stdout",
     "output_type": "stream",
     "text": [
      "636237732.575327\n"
     ]
    }
   ],
   "source": [
    "sumatoria_de_error_al_cuadrado = 0\n",
    "for x, y in zip(model.predict(),startups['net_profit'].values) :\n",
    "        sumatoria_de_error_al_cuadrado += abs(y-x)**2\n",
    "print(sumatoria_de_error_al_cuadrado/58)"
   ]
  },
  {
   "cell_type": "markdown",
   "metadata": {},
   "source": [
    "## **Modelo de regresión lineal para predecir beneficio neto mediante el sector**"
   ]
  },
  {
   "cell_type": "markdown",
   "metadata": {},
   "source": [
    "### Análisis del industria // sector de las startups en el modelo"
   ]
  },
  {
   "cell_type": "markdown",
   "metadata": {},
   "source": [
    "Encoding de los sectores"
   ]
  },
  {
   "cell_type": "code",
   "execution_count": 31,
   "metadata": {},
   "outputs": [
    {
     "name": "stderr",
     "output_type": "stream",
     "text": [
      "c:\\Users\\juanf\\AppData\\Local\\Programs\\Python\\Python312\\Lib\\site-packages\\sklearn\\preprocessing\\_encoders.py:975: FutureWarning: `sparse` was renamed to `sparse_output` in version 1.2 and will be removed in 1.4. `sparse_output` is ignored unless you leave `sparse` to its default value.\n",
      "  warnings.warn(\n"
     ]
    },
    {
     "data": {
      "text/plain": [
       "[array(['Energy', 'Finance', 'Healthcare', 'Retail', 'Tech'], dtype=object)]"
      ]
     },
     "execution_count": 31,
     "metadata": {},
     "output_type": "execute_result"
    }
   ],
   "source": [
    "from sklearn.preprocessing import OneHotEncoder\n",
    "startups_ohe_sectores = OneHotEncoder(sparse=False)\n",
    "startups_ohe_sectores.fit(startups[['industry_sector']])\n",
    "startups_ohe_sectores.categories_"
   ]
  },
  {
   "cell_type": "code",
   "execution_count": 32,
   "metadata": {},
   "outputs": [
    {
     "name": "stderr",
     "output_type": "stream",
     "text": [
      "c:\\Users\\juanf\\AppData\\Local\\Programs\\Python\\Python312\\Lib\\site-packages\\sklearn\\preprocessing\\_encoders.py:975: FutureWarning: `sparse` was renamed to `sparse_output` in version 1.2 and will be removed in 1.4. `sparse_output` is ignored unless you leave `sparse` to its default value.\n",
      "  warnings.warn(\n"
     ]
    },
    {
     "data": {
      "text/html": [
       "<div>\n",
       "<style scoped>\n",
       "    .dataframe tbody tr th:only-of-type {\n",
       "        vertical-align: middle;\n",
       "    }\n",
       "\n",
       "    .dataframe tbody tr th {\n",
       "        vertical-align: top;\n",
       "    }\n",
       "\n",
       "    .dataframe thead th {\n",
       "        text-align: right;\n",
       "    }\n",
       "</style>\n",
       "<table border=\"1\" class=\"dataframe\">\n",
       "  <thead>\n",
       "    <tr style=\"text-align: right;\">\n",
       "      <th></th>\n",
       "      <th>rnd_expenditure</th>\n",
       "      <th>admin_costs</th>\n",
       "      <th>marketing_expenditure</th>\n",
       "      <th>location</th>\n",
       "      <th>net_profit</th>\n",
       "      <th>profit</th>\n",
       "      <th>employee_count</th>\n",
       "      <th>investment_round</th>\n",
       "      <th>operational_cost</th>\n",
       "      <th>net_profits_predicted</th>\n",
       "      <th>error_modelo_net_profit</th>\n",
       "      <th>Energy</th>\n",
       "      <th>Finance</th>\n",
       "      <th>Healthcare</th>\n",
       "      <th>Retail</th>\n",
       "      <th>Tech</th>\n",
       "    </tr>\n",
       "  </thead>\n",
       "  <tbody>\n",
       "    <tr>\n",
       "      <th>0</th>\n",
       "      <td>165349.20</td>\n",
       "      <td>136897.80</td>\n",
       "      <td>471784.10</td>\n",
       "      <td>New York</td>\n",
       "      <td>192261.83</td>\n",
       "      <td>227095.722346</td>\n",
       "      <td>289</td>\n",
       "      <td>Series A</td>\n",
       "      <td>608681.90</td>\n",
       "      <td>178688.089646</td>\n",
       "      <td>13573.740354</td>\n",
       "      <td>1.0</td>\n",
       "      <td>0.0</td>\n",
       "      <td>0.0</td>\n",
       "      <td>0.0</td>\n",
       "      <td>0.0</td>\n",
       "    </tr>\n",
       "    <tr>\n",
       "      <th>1</th>\n",
       "      <td>162597.70</td>\n",
       "      <td>151377.59</td>\n",
       "      <td>443898.53</td>\n",
       "      <td>California</td>\n",
       "      <td>191792.06</td>\n",
       "      <td>224711.757208</td>\n",
       "      <td>217</td>\n",
       "      <td>Series B</td>\n",
       "      <td>595276.12</td>\n",
       "      <td>179173.873144</td>\n",
       "      <td>12618.186856</td>\n",
       "      <td>0.0</td>\n",
       "      <td>0.0</td>\n",
       "      <td>0.0</td>\n",
       "      <td>0.0</td>\n",
       "      <td>1.0</td>\n",
       "    </tr>\n",
       "    <tr>\n",
       "      <th>2</th>\n",
       "      <td>153441.51</td>\n",
       "      <td>101145.55</td>\n",
       "      <td>407934.54</td>\n",
       "      <td>Florida</td>\n",
       "      <td>191050.39</td>\n",
       "      <td>222717.429984</td>\n",
       "      <td>407</td>\n",
       "      <td>Series C</td>\n",
       "      <td>509080.09</td>\n",
       "      <td>164534.568007</td>\n",
       "      <td>26515.821993</td>\n",
       "      <td>0.0</td>\n",
       "      <td>1.0</td>\n",
       "      <td>0.0</td>\n",
       "      <td>0.0</td>\n",
       "      <td>0.0</td>\n",
       "    </tr>\n",
       "    <tr>\n",
       "      <th>3</th>\n",
       "      <td>144372.41</td>\n",
       "      <td>118671.85</td>\n",
       "      <td>383199.62</td>\n",
       "      <td>New York</td>\n",
       "      <td>182901.99</td>\n",
       "      <td>214017.365199</td>\n",
       "      <td>383</td>\n",
       "      <td>Series A</td>\n",
       "      <td>501871.47</td>\n",
       "      <td>159505.981166</td>\n",
       "      <td>23396.008834</td>\n",
       "      <td>0.0</td>\n",
       "      <td>1.0</td>\n",
       "      <td>0.0</td>\n",
       "      <td>0.0</td>\n",
       "      <td>0.0</td>\n",
       "    </tr>\n",
       "    <tr>\n",
       "      <th>4</th>\n",
       "      <td>142107.34</td>\n",
       "      <td>91391.77</td>\n",
       "      <td>366168.42</td>\n",
       "      <td>Florida</td>\n",
       "      <td>166187.94</td>\n",
       "      <td>196476.965990</td>\n",
       "      <td>351</td>\n",
       "      <td>Series B</td>\n",
       "      <td>457560.19</td>\n",
       "      <td>157372.932725</td>\n",
       "      <td>8815.007275</td>\n",
       "      <td>0.0</td>\n",
       "      <td>1.0</td>\n",
       "      <td>0.0</td>\n",
       "      <td>0.0</td>\n",
       "      <td>0.0</td>\n",
       "    </tr>\n",
       "  </tbody>\n",
       "</table>\n",
       "</div>"
      ],
      "text/plain": [
       "   rnd_expenditure  admin_costs  marketing_expenditure    location  \\\n",
       "0        165349.20    136897.80              471784.10    New York   \n",
       "1        162597.70    151377.59              443898.53  California   \n",
       "2        153441.51    101145.55              407934.54     Florida   \n",
       "3        144372.41    118671.85              383199.62    New York   \n",
       "4        142107.34     91391.77              366168.42     Florida   \n",
       "\n",
       "   net_profit         profit  employee_count investment_round  \\\n",
       "0   192261.83  227095.722346             289         Series A   \n",
       "1   191792.06  224711.757208             217         Series B   \n",
       "2   191050.39  222717.429984             407         Series C   \n",
       "3   182901.99  214017.365199             383         Series A   \n",
       "4   166187.94  196476.965990             351         Series B   \n",
       "\n",
       "   operational_cost  net_profits_predicted  error_modelo_net_profit  Energy  \\\n",
       "0         608681.90          178688.089646             13573.740354     1.0   \n",
       "1         595276.12          179173.873144             12618.186856     0.0   \n",
       "2         509080.09          164534.568007             26515.821993     0.0   \n",
       "3         501871.47          159505.981166             23396.008834     0.0   \n",
       "4         457560.19          157372.932725              8815.007275     0.0   \n",
       "\n",
       "   Finance  Healthcare  Retail  Tech  \n",
       "0      0.0         0.0     0.0   0.0  \n",
       "1      0.0         0.0     0.0   1.0  \n",
       "2      1.0         0.0     0.0   0.0  \n",
       "3      1.0         0.0     0.0   0.0  \n",
       "4      1.0         0.0     0.0   0.0  "
      ]
     },
     "execution_count": 32,
     "metadata": {},
     "output_type": "execute_result"
    }
   ],
   "source": [
    "startups['Energy'], startups['Finance'], startups['Healthcare'], startups['Retail'], startups['Tech'] = startups_ohe_sectores.fit_transform(startups[['industry_sector']]).T \n",
    "startups.drop(columns='industry_sector', inplace=True)\n",
    "startups.head()"
   ]
  },
  {
   "cell_type": "code",
   "execution_count": 33,
   "metadata": {},
   "outputs": [],
   "source": [
    "features_sectores = ['Energy', 'Finance', 'Healthcare', 'Retail', 'Tech']"
   ]
  },
  {
   "cell_type": "markdown",
   "metadata": {},
   "source": [
    "## Agregar modelo al modelo de gastos, los sectores y comparar."
   ]
  },
  {
   "cell_type": "code",
   "execution_count": 34,
   "metadata": {},
   "outputs": [
    {
     "data": {
      "text/html": [
       "<table class=\"simpletable\">\n",
       "<caption>OLS Regression Results</caption>\n",
       "<tr>\n",
       "  <th>Dep. Variable:</th>       <td>net_profit</td>    <th>  R-squared:         </th> <td>   0.049</td>\n",
       "</tr>\n",
       "<tr>\n",
       "  <th>Model:</th>                   <td>OLS</td>       <th>  Adj. R-squared:    </th> <td>  -0.023</td>\n",
       "</tr>\n",
       "<tr>\n",
       "  <th>Method:</th>             <td>Least Squares</td>  <th>  F-statistic:       </th> <td>  0.6821</td>\n",
       "</tr>\n",
       "<tr>\n",
       "  <th>Date:</th>             <td>Wed, 08 Nov 2023</td> <th>  Prob (F-statistic):</th>  <td> 0.607</td> \n",
       "</tr>\n",
       "<tr>\n",
       "  <th>Time:</th>                 <td>22:03:38</td>     <th>  Log-Likelihood:    </th> <td> -695.32</td>\n",
       "</tr>\n",
       "<tr>\n",
       "  <th>No. Observations:</th>      <td>    58</td>      <th>  AIC:               </th> <td>   1401.</td>\n",
       "</tr>\n",
       "<tr>\n",
       "  <th>Df Residuals:</th>          <td>    53</td>      <th>  BIC:               </th> <td>   1411.</td>\n",
       "</tr>\n",
       "<tr>\n",
       "  <th>Df Model:</th>              <td>     4</td>      <th>                     </th>     <td> </td>   \n",
       "</tr>\n",
       "<tr>\n",
       "  <th>Covariance Type:</th>      <td>nonrobust</td>    <th>                     </th>     <td> </td>   \n",
       "</tr>\n",
       "</table>\n",
       "<table class=\"simpletable\">\n",
       "<tr>\n",
       "       <td></td>         <th>coef</th>     <th>std err</th>      <th>t</th>      <th>P>|t|</th>  <th>[0.025</th>    <th>0.975]</th>  \n",
       "</tr>\n",
       "<tr>\n",
       "  <th>Intercept</th>  <td> 9.697e+04</td> <td> 4585.859</td> <td>   21.146</td> <td> 0.000</td> <td> 8.78e+04</td> <td> 1.06e+05</td>\n",
       "</tr>\n",
       "<tr>\n",
       "  <th>Energy</th>     <td> 2.219e+04</td> <td> 1.26e+04</td> <td>    1.759</td> <td> 0.084</td> <td>-3114.436</td> <td> 4.75e+04</td>\n",
       "</tr>\n",
       "<tr>\n",
       "  <th>Finance</th>    <td> 3.275e+04</td> <td> 1.03e+04</td> <td>    3.180</td> <td> 0.002</td> <td> 1.21e+04</td> <td> 5.34e+04</td>\n",
       "</tr>\n",
       "<tr>\n",
       "  <th>Healthcare</th> <td> 7107.0927</td> <td> 1.03e+04</td> <td>    0.690</td> <td> 0.493</td> <td>-1.35e+04</td> <td> 2.78e+04</td>\n",
       "</tr>\n",
       "<tr>\n",
       "  <th>Retail</th>     <td> 1.496e+04</td> <td>  1.2e+04</td> <td>    1.248</td> <td> 0.218</td> <td>-9091.188</td> <td>  3.9e+04</td>\n",
       "</tr>\n",
       "<tr>\n",
       "  <th>Tech</th>       <td> 1.996e+04</td> <td> 9732.375</td> <td>    2.051</td> <td> 0.045</td> <td>  441.196</td> <td> 3.95e+04</td>\n",
       "</tr>\n",
       "</table>\n",
       "<table class=\"simpletable\">\n",
       "<tr>\n",
       "  <th>Omnibus:</th>       <td> 2.588</td> <th>  Durbin-Watson:     </th> <td>   0.970</td>\n",
       "</tr>\n",
       "<tr>\n",
       "  <th>Prob(Omnibus):</th> <td> 0.274</td> <th>  Jarque-Bera (JB):  </th> <td>   1.529</td>\n",
       "</tr>\n",
       "<tr>\n",
       "  <th>Skew:</th>          <td> 0.075</td> <th>  Prob(JB):          </th> <td>   0.466</td>\n",
       "</tr>\n",
       "<tr>\n",
       "  <th>Kurtosis:</th>      <td> 2.219</td> <th>  Cond. No.          </th> <td>2.08e+16</td>\n",
       "</tr>\n",
       "</table><br/><br/>Notes:<br/>[1] Standard Errors assume that the covariance matrix of the errors is correctly specified.<br/>[2] The smallest eigenvalue is 1.63e-31. This might indicate that there are<br/>strong multicollinearity problems or that the design matrix is singular."
      ],
      "text/latex": [
       "\\begin{center}\n",
       "\\begin{tabular}{lclc}\n",
       "\\toprule\n",
       "\\textbf{Dep. Variable:}    &   net\\_profit    & \\textbf{  R-squared:         } &     0.049   \\\\\n",
       "\\textbf{Model:}            &       OLS        & \\textbf{  Adj. R-squared:    } &    -0.023   \\\\\n",
       "\\textbf{Method:}           &  Least Squares   & \\textbf{  F-statistic:       } &    0.6821   \\\\\n",
       "\\textbf{Date:}             & Wed, 08 Nov 2023 & \\textbf{  Prob (F-statistic):} &    0.607    \\\\\n",
       "\\textbf{Time:}             &     22:03:38     & \\textbf{  Log-Likelihood:    } &   -695.32   \\\\\n",
       "\\textbf{No. Observations:} &          58      & \\textbf{  AIC:               } &     1401.   \\\\\n",
       "\\textbf{Df Residuals:}     &          53      & \\textbf{  BIC:               } &     1411.   \\\\\n",
       "\\textbf{Df Model:}         &           4      & \\textbf{                     } &             \\\\\n",
       "\\textbf{Covariance Type:}  &    nonrobust     & \\textbf{                     } &             \\\\\n",
       "\\bottomrule\n",
       "\\end{tabular}\n",
       "\\begin{tabular}{lcccccc}\n",
       "                    & \\textbf{coef} & \\textbf{std err} & \\textbf{t} & \\textbf{P$> |$t$|$} & \\textbf{[0.025} & \\textbf{0.975]}  \\\\\n",
       "\\midrule\n",
       "\\textbf{Intercept}  &    9.697e+04  &     4585.859     &    21.146  &         0.000        &     8.78e+04    &     1.06e+05     \\\\\n",
       "\\textbf{Energy}     &    2.219e+04  &     1.26e+04     &     1.759  &         0.084        &    -3114.436    &     4.75e+04     \\\\\n",
       "\\textbf{Finance}    &    3.275e+04  &     1.03e+04     &     3.180  &         0.002        &     1.21e+04    &     5.34e+04     \\\\\n",
       "\\textbf{Healthcare} &    7107.0927  &     1.03e+04     &     0.690  &         0.493        &    -1.35e+04    &     2.78e+04     \\\\\n",
       "\\textbf{Retail}     &    1.496e+04  &      1.2e+04     &     1.248  &         0.218        &    -9091.188    &      3.9e+04     \\\\\n",
       "\\textbf{Tech}       &    1.996e+04  &     9732.375     &     2.051  &         0.045        &      441.196    &     3.95e+04     \\\\\n",
       "\\bottomrule\n",
       "\\end{tabular}\n",
       "\\begin{tabular}{lclc}\n",
       "\\textbf{Omnibus:}       &  2.588 & \\textbf{  Durbin-Watson:     } &    0.970  \\\\\n",
       "\\textbf{Prob(Omnibus):} &  0.274 & \\textbf{  Jarque-Bera (JB):  } &    1.529  \\\\\n",
       "\\textbf{Skew:}          &  0.075 & \\textbf{  Prob(JB):          } &    0.466  \\\\\n",
       "\\textbf{Kurtosis:}      &  2.219 & \\textbf{  Cond. No.          } & 2.08e+16  \\\\\n",
       "\\bottomrule\n",
       "\\end{tabular}\n",
       "%\\caption{OLS Regression Results}\n",
       "\\end{center}\n",
       "\n",
       "Notes: \\newline\n",
       " [1] Standard Errors assume that the covariance matrix of the errors is correctly specified. \\newline\n",
       " [2] The smallest eigenvalue is 1.63e-31. This might indicate that there are \\newline\n",
       " strong multicollinearity problems or that the design matrix is singular."
      ],
      "text/plain": [
       "<class 'statsmodels.iolib.summary.Summary'>\n",
       "\"\"\"\n",
       "                            OLS Regression Results                            \n",
       "==============================================================================\n",
       "Dep. Variable:             net_profit   R-squared:                       0.049\n",
       "Model:                            OLS   Adj. R-squared:                 -0.023\n",
       "Method:                 Least Squares   F-statistic:                    0.6821\n",
       "Date:                Wed, 08 Nov 2023   Prob (F-statistic):              0.607\n",
       "Time:                        22:03:38   Log-Likelihood:                -695.32\n",
       "No. Observations:                  58   AIC:                             1401.\n",
       "Df Residuals:                      53   BIC:                             1411.\n",
       "Df Model:                           4                                         \n",
       "Covariance Type:            nonrobust                                         \n",
       "==============================================================================\n",
       "                 coef    std err          t      P>|t|      [0.025      0.975]\n",
       "------------------------------------------------------------------------------\n",
       "Intercept   9.697e+04   4585.859     21.146      0.000    8.78e+04    1.06e+05\n",
       "Energy      2.219e+04   1.26e+04      1.759      0.084   -3114.436    4.75e+04\n",
       "Finance     3.275e+04   1.03e+04      3.180      0.002    1.21e+04    5.34e+04\n",
       "Healthcare  7107.0927   1.03e+04      0.690      0.493   -1.35e+04    2.78e+04\n",
       "Retail      1.496e+04    1.2e+04      1.248      0.218   -9091.188     3.9e+04\n",
       "Tech        1.996e+04   9732.375      2.051      0.045     441.196    3.95e+04\n",
       "==============================================================================\n",
       "Omnibus:                        2.588   Durbin-Watson:                   0.970\n",
       "Prob(Omnibus):                  0.274   Jarque-Bera (JB):                1.529\n",
       "Skew:                           0.075   Prob(JB):                        0.466\n",
       "Kurtosis:                       2.219   Cond. No.                     2.08e+16\n",
       "==============================================================================\n",
       "\n",
       "Notes:\n",
       "[1] Standard Errors assume that the covariance matrix of the errors is correctly specified.\n",
       "[2] The smallest eigenvalue is 1.63e-31. This might indicate that there are\n",
       "strong multicollinearity problems or that the design matrix is singular.\n",
       "\"\"\""
      ]
     },
     "execution_count": 34,
     "metadata": {},
     "output_type": "execute_result"
    }
   ],
   "source": [
    "model_sectores = smf.ols(formula='net_profit ~ ' +' + '.join(features_sectores), data=startups).fit()\n",
    "model_sectores.summary()"
   ]
  },
  {
   "cell_type": "markdown",
   "metadata": {},
   "source": [
    "**Hay una cantidad bastante baja de variación explicada. Los sectores como features no están siriviendo para hacer una explicación sólida para las variaciones en el beneficio neto de las empresas ya que sólo tiene un r cuadrado de 5%.**\n",
    "\n",
    "La probabilidad de ocurrencia del F-statistic nos indica que no existe ninguna relación entre alguno de los sectores y el beneficio neto ya que es mayor al nivel de significancia de 0.05."
   ]
  },
  {
   "cell_type": "markdown",
   "metadata": {},
   "source": [
    "Estadísticas de significancia:\n",
    "\n",
    " - Los p-valores asociados a Energy, Finance y Tech son menores que 0.05, lo que indica que estas variables son estadísticamente significativas para predecir el beneficio neto. En otras palabras, hay evidencia suficiente para sugerir que estas sectores tienen un impacto en el beneficio neto observando cada una por separado.\n",
    "- Healthcare y Retail tienen p-valores mayores que 0.05, lo que sugiere que no son estadísticamente significativas en este modelo."
   ]
  },
  {
   "cell_type": "markdown",
   "metadata": {},
   "source": [
    "Ordenando de mayor a menor los coeficientes:"
   ]
  },
  {
   "cell_type": "markdown",
   "metadata": {},
   "source": [
    "- Finance: Con un coeficiente de aproximadamente 32750, por cada empresa que pertenece al sector, tiene un aumento de apróximadamente $32750 en el beneficio neto en comparación con las empresas que no pertenecen al sector financiero. \n",
    "\n",
    "\n",
    "- Energía: Con un coeficiente de aproximadamente 22190, por cada empresa que pertenece al sector, tiene un aumento de apróximadamente $22190 en el beneficio neto en comparación con las empresas que no pertenecen al sector energético. \n",
    "\n",
    "\n",
    "\n",
    "- Tech: Con un coeficiente de aproximadamente 19960, por cada empresa que pertenece al sector, tiene un aumento de apróximadamente $19960 en el beneficio neto en comparación con las empresas que no pertenecen al sector tecnológico. \n",
    "\n",
    "\n",
    "\n",
    "- Retail (no es estadísticamente significativo): Con un coeficiente de aproximadamente 14900, por cada empresa que pertenece al sector, tiene un aumento de apróximadamente $14900 en el beneficio neto en comparación con las empresas que no pertenecen al sector de consumo masivo. \n",
    "\n",
    "\n",
    "\n",
    "- Healthcare (no es estadísticamente significativo): Con un coeficiente de 7107, por cada empresa que pertenece al sector, tiene un aumento de apróximadamente $7107 en el beneficio neto en comparación con las empresas que no pertenecen al sector de salud. \n"
   ]
  },
  {
   "cell_type": "markdown",
   "metadata": {},
   "source": [
    "## **Cual es la relacion entre las series y el profit? Es importante hay alguna particularidad?**"
   ]
  },
  {
   "cell_type": "code",
   "execution_count": 35,
   "metadata": {},
   "outputs": [
    {
     "data": {
      "text/plain": [
       "Index(['rnd_expenditure', 'admin_costs', 'marketing_expenditure', 'location',\n",
       "       'net_profit', 'profit', 'employee_count', 'investment_round',\n",
       "       'operational_cost', 'net_profits_predicted', 'error_modelo_net_profit',\n",
       "       'Energy', 'Finance', 'Healthcare', 'Retail', 'Tech'],\n",
       "      dtype='object')"
      ]
     },
     "execution_count": 35,
     "metadata": {},
     "output_type": "execute_result"
    }
   ],
   "source": [
    "startups.columns"
   ]
  },
  {
   "cell_type": "code",
   "execution_count": 36,
   "metadata": {},
   "outputs": [
    {
     "data": {
      "text/html": [
       "<div>\n",
       "<style scoped>\n",
       "    .dataframe tbody tr th:only-of-type {\n",
       "        vertical-align: middle;\n",
       "    }\n",
       "\n",
       "    .dataframe tbody tr th {\n",
       "        vertical-align: top;\n",
       "    }\n",
       "\n",
       "    .dataframe thead th {\n",
       "        text-align: right;\n",
       "    }\n",
       "</style>\n",
       "<table border=\"1\" class=\"dataframe\">\n",
       "  <thead>\n",
       "    <tr style=\"text-align: right;\">\n",
       "      <th></th>\n",
       "      <th>investment_round</th>\n",
       "      <th>count</th>\n",
       "      <th>mean</th>\n",
       "      <th>std</th>\n",
       "      <th>min</th>\n",
       "      <th>25%</th>\n",
       "      <th>50%</th>\n",
       "      <th>75%</th>\n",
       "      <th>max</th>\n",
       "    </tr>\n",
       "  </thead>\n",
       "  <tbody>\n",
       "    <tr>\n",
       "      <th>0</th>\n",
       "      <td>IPO</td>\n",
       "      <td>6.0</td>\n",
       "      <td>102254.9</td>\n",
       "      <td>30812.5</td>\n",
       "      <td>71498.5</td>\n",
       "      <td>83241.6</td>\n",
       "      <td>93214.3</td>\n",
       "      <td>112975.4</td>\n",
       "      <td>156122.5</td>\n",
       "    </tr>\n",
       "    <tr>\n",
       "      <th>1</th>\n",
       "      <td>Seed</td>\n",
       "      <td>26.0</td>\n",
       "      <td>109098.3</td>\n",
       "      <td>42137.8</td>\n",
       "      <td>36941.5</td>\n",
       "      <td>95126.3</td>\n",
       "      <td>107888.1</td>\n",
       "      <td>132326.9</td>\n",
       "      <td>191210.0</td>\n",
       "    </tr>\n",
       "    <tr>\n",
       "      <th>2</th>\n",
       "      <td>Series A</td>\n",
       "      <td>4.0</td>\n",
       "      <td>150478.5</td>\n",
       "      <td>55842.6</td>\n",
       "      <td>69759.0</td>\n",
       "      <td>135183.1</td>\n",
       "      <td>169946.6</td>\n",
       "      <td>185241.9</td>\n",
       "      <td>192261.8</td>\n",
       "    </tr>\n",
       "    <tr>\n",
       "      <th>3</th>\n",
       "      <td>Series B</td>\n",
       "      <td>9.0</td>\n",
       "      <td>132634.2</td>\n",
       "      <td>33691.1</td>\n",
       "      <td>96778.9</td>\n",
       "      <td>107404.3</td>\n",
       "      <td>125370.4</td>\n",
       "      <td>155752.6</td>\n",
       "      <td>191792.1</td>\n",
       "    </tr>\n",
       "    <tr>\n",
       "      <th>4</th>\n",
       "      <td>Series C</td>\n",
       "      <td>13.0</td>\n",
       "      <td>116030.8</td>\n",
       "      <td>35612.8</td>\n",
       "      <td>65200.3</td>\n",
       "      <td>90708.2</td>\n",
       "      <td>108552.0</td>\n",
       "      <td>141585.5</td>\n",
       "      <td>191050.4</td>\n",
       "    </tr>\n",
       "  </tbody>\n",
       "</table>\n",
       "</div>"
      ],
      "text/plain": [
       "  investment_round  count      mean      std      min       25%       50%  \\\n",
       "0              IPO    6.0  102254.9  30812.5  71498.5   83241.6   93214.3   \n",
       "1             Seed   26.0  109098.3  42137.8  36941.5   95126.3  107888.1   \n",
       "2         Series A    4.0  150478.5  55842.6  69759.0  135183.1  169946.6   \n",
       "3         Series B    9.0  132634.2  33691.1  96778.9  107404.3  125370.4   \n",
       "4         Series C   13.0  116030.8  35612.8  65200.3   90708.2  108552.0   \n",
       "\n",
       "        75%       max  \n",
       "0  112975.4  156122.5  \n",
       "1  132326.9  191210.0  \n",
       "2  185241.9  192261.8  \n",
       "3  155752.6  191792.1  \n",
       "4  141585.5  191050.4  "
      ]
     },
     "execution_count": 36,
     "metadata": {},
     "output_type": "execute_result"
    }
   ],
   "source": [
    "df_series = startups.groupby('investment_round')['net_profit'].describe()\n",
    "round(df_series.reset_index(),1)"
   ]
  },
  {
   "cell_type": "code",
   "execution_count": 37,
   "metadata": {},
   "outputs": [
    {
     "data": {
      "image/png": "[encoded data removed]",
      "text/plain": [
       "<Figure size 500x600 with 1 Axes>"
      ]
     },
     "metadata": {},
     "output_type": "display_data"
    }
   ],
   "source": [
    "plt.figure(figsize=(5, 6))\n",
    "sns.boxplot(x='investment_round', y='net_profit', data=startups)\n",
    "plt.xlabel('rondas de inversión')\n",
    "plt.ylabel('beneficio neto')\n",
    "plt.title('distribuciones de beneficio neto por ronda de inversión', loc='left')\n",
    "plt.grid(False)\n",
    "plt.show()"
   ]
  },
  {
   "cell_type": "markdown",
   "metadata": {},
   "source": [
    "### **_Conclusiones halladas observando los beneficios netos en diferentes etapas de ronda de inversión_**"
   ]
  },
  {
   "cell_type": "markdown",
   "metadata": {},
   "source": [
    "Disclaimer: en el box plot no se ordenó por etapa: el orden sería como se indicó antes los significados (seed, serie a, serie b, serie c y ipo).\n",
    "\n",
    "- **Las startups con mayor beneficio neto son las que recibieron financiación de _Serie A_**. Se puede asumir que las startups que superaron la etapa semilla y recibieron Serie A, tienen un mayor potencial de éxito.\n",
    "\n",
    "- **Las startups con menor beneficio neto son las que recibieron financiación de _IPO_**. Son empresas que están comenzando a madurar.\n",
    "\n"
   ]
  }
 ],
 "metadata": {
  "kernelspec": {
   "display_name": "Python 3",
   "language": "python",
   "name": "python3"
  },
  "language_info": {
   "codemirror_mode": {
    "name": "ipython",
    "version": 3
   },
   "file_extension": ".py",
   "mimetype": "text/x-python",
   "name": "python",
   "nbconvert_exporter": "python",
   "pygments_lexer": "ipython3",
   "version": "3.12.0"
  }
 },
 "nbformat": 4,
 "nbformat_minor": 2
}
